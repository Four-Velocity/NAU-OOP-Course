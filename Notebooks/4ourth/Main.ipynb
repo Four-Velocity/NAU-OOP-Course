{
 "cells": [
  {
   "cell_type": "markdown",
   "metadata": {},
   "source": [
    "# Виконання Курсової Роботи\n",
    "**Тема:** Дослідження механізму обробки виняткових ситуацій\n",
    "**Мета:** Дослідити механізм обробки виняткових ситуацій та причини його застосування\n",
    "на прикладі мов програмування C++ та C#.\n",
    "**Завдання:** \n",
    "1. Вивчити причини застосування обробки виняткових ситуацій.\n",
    "2. Дослідити механізм обробки виняткових ситуацій у мовах програмування C++ та C#.\n",
    "3. Написати програми мовами C++ та C#, у яких ввести інформацію про виконавця та реалізувати завдання згідно з варіантом. При обчисленні арифметичного виразу та введенні інформації передбачити обробку виняткових ситуацій.\n",
    "\n",
    "|Арифметичний вираз|Опис класу-виразу|Завдання|\n",
    "|:----------------:|-----------------|--------| \n",
    "|![(lg(4xb-c)xa)/(b+c/d-1)](/src/formula.svg)|Змінні - операнди виразу; конструктори; методи встановлення значень об’єкта, обчислення виразу, отримання значення об’єкта|Створити масив об’єктів; обчислити вираз для кожного об’єкта, вивести результат|"
   ]
  },
  {
   "cell_type": "markdown",
   "metadata": {},
   "source": [
    "## Теоретичне виконання\n",
    "### Критичні точки програми \n",
    "При обчисленні даного арифметичного виразу з математичної точки зору ми маємо критичні точки у наступних місцях:\n",
    "1. База логарифма менше або дорівнює нулеві\n",
    "2. Ділення на нуль\n",
    "    1. d - нуль *(c/d, d = 0)*\n",
    "    2. Знаменник виразу - нуль *(b+c/d-1 = 0)*  \n",
    "    \n",
    "Враховуючи особливості математичних операцій заданих мов програмування маємо 2 підходи до виконання:\n",
    "1. У C++ перевіряти значення у критичній точці до обчислення, та викликати виняткову ситуацію, якщо умова не виконана\n",
    "2. У C# ловити виключення та викликати теж саме виключення з модифікаціями\n",
    "\n",
    "Також оскільки значення обчислення буде зберігатися у класі, у змінній `result` зробимо його приватним, та створимо метод `getResult()`, який повертає значення виразу, чи викликає виняткову ситуацію, якщо воно ще не обчислене.\n"
   ]
  },
  {
   "cell_type": "markdown",
   "metadata": {},
   "source": [
    "### Моделювання\n",
    "#### Flow програми\n",
    "Для перевірки дієздатності та коректного виконання програми на початковому етапі були вироблена наступна модель.\n",
    "\n",
    "![chart](/src/First_flow.svg)\n",
    "\n",
    "Інтерпретація одного і того самого класу буде виконана на трьох мовах програмування. [C++](C_PlusPlus.ipynb) та [C#](C_Sharp.ipynb) як основні, та [Python](Python.ipynb) як контрольна.\n",
    "> Реалізація класів знаходится у посиланнях :point_up_2: \n",
    "\n",
    "З файлу певного формату (скоріш за все “\\*.csv”) будемо отримувати групи з чотирьох чисел.  \n",
    "Для кожної групи виконувати обчислення кожним з трьох класів, та записувати результат виконання у 3 окремі файли відповідно.\n",
    "Після цього порівняємо результати та зробимо висновки, чи внесемо корективи."
   ]
  },
  {
   "cell_type": "code",
   "execution_count": 1,
   "metadata": {},
   "outputs": [],
   "source": [
    "from random import randint, uniform, choice\n",
    "\n",
    "\n",
    "class Generator:\n",
    "    def __init__(self,file=\"start_values.tsv\", number=500, bottom=-1000, top=1000, error_chance=13):\n",
    "        self.file = file\n",
    "        self.number = number\n",
    "        self.floor = bottom\n",
    "        self.top = top\n",
    "        self.error_chance = error_chance\n",
    "        \n",
    "    def generate(self):\n",
    "        with open(self.file, 'w') as table:\n",
    "            for _ in range(self.number):\n",
    "                \n",
    "                values = {letter:round(uniform(self.floor, self.top), 4)\n",
    "                          for letter in ('a', 'b', 'c', 'd')}\n",
    "                \n",
    "                error = randint(0,100)\n",
    "                if error <= self.error_chance:\n",
    "                    type = choice(['l', 'z1', 'z2'])\n",
    "                    if type == 'l':\n",
    "                        values['c'] = 4*values['b']\n",
    "                    elif type == 'z1':\n",
    "                        values['d'] = 0\n",
    "                    else:\n",
    "                        rand_b = randint(-10, 10)\n",
    "                        values['d'] = randint(-100, 100)\n",
    "                        values['c'] = values['d'] * rand_b\n",
    "                        values['b'] = -(rand_b - 1)\n",
    "                if _ == (self.number - 1):\n",
    "                    ending = ''\n",
    "                else:\n",
    "                    ending = '\\r\\n'\n",
    "                line = '\\t'.join(str(v) for v in values.values()) + ending\n",
    "                table.writelines(line)\n",
    "            "
   ]
  },
  {
   "cell_type": "markdown",
   "metadata": {},
   "source": [
    "## Підготовка\n",
    "Після декількох спроб був написаний генератор з наступними можливостями.\n",
    "Генерується n груп випадкових чисел з плаваючою комою з точністю до 4 цифр після коми, по 4 числа в кожній групі.\n",
    "> У фінальній реалізації генерується 100 груп, для зменшення абсолютної кількості warnings\n",
    "\n",
    "Числа генеруються у межах від -400 до 1000.*Діапазон від’ємних даних менше, ніж діапазон додатних задля зменшення кількості некоректних баз логарифму*  \n",
    "З шансом 13 відсотків будуть спеціально згенеровані числа, що викликають 1 з 3 помилок в обчисленнях.  \n",
    "Числа записуються у файл формату `tsv`. Цей формат був обраний через те, що для зчитування даних для C++ він значно зручніший за `csv`, а для C# та для Python це не має значення."
   ]
  },
  {
   "cell_type": "code",
   "execution_count": 2,
   "metadata": {},
   "outputs": [
    {
     "data": {
      "application/vnd.jupyter.widget-view+json": {
       "model_id": "f4ede4ac60f04854bf92a0ae4857924e",
       "version_major": 2,
       "version_minor": 0
      },
      "text/plain": [
       "Text(value='start_values.tsv', description=\"Ім'я файлу:\")"
      ]
     },
     "metadata": {},
     "output_type": "display_data"
    },
    {
     "data": {
      "application/vnd.jupyter.widget-view+json": {
       "model_id": "3ec07567f413450d8c9984a3cb5e040b",
       "version_major": 2,
       "version_minor": 0
      },
      "text/plain": [
       "IntSlider(value=100, continuous_update=False, description='Кількість:', layout=Layout(width='65%'), max=1000, …"
      ]
     },
     "metadata": {},
     "output_type": "display_data"
    },
    {
     "data": {
      "application/vnd.jupyter.widget-view+json": {
       "model_id": "4c97a0100a5b441d99fd210cd03ac9d8",
       "version_major": 2,
       "version_minor": 0
      },
      "text/plain": [
       "IntSlider(value=-400, continuous_update=False, description='Від:', layout=Layout(width='65%'), max=-1, min=-10…"
      ]
     },
     "metadata": {},
     "output_type": "display_data"
    },
    {
     "data": {
      "application/vnd.jupyter.widget-view+json": {
       "model_id": "dd77f0ca5ffd4e8bb8125c628087f8eb",
       "version_major": 2,
       "version_minor": 0
      },
      "text/plain": [
       "IntSlider(value=1000, continuous_update=False, description='До:', layout=Layout(width='65%'), max=1000, min=10…"
      ]
     },
     "metadata": {},
     "output_type": "display_data"
    },
    {
     "data": {
      "application/vnd.jupyter.widget-view+json": {
       "model_id": "b56123e82f674742803f6cb57d3f8f74",
       "version_major": 2,
       "version_minor": 0
      },
      "text/plain": [
       "IntSlider(value=13, continuous_update=False, description='Шанс помилки:', layout=Layout(width='65%'), max=25)"
      ]
     },
     "metadata": {},
     "output_type": "display_data"
    }
   ],
   "source": [
    "from IPython.display import display\n",
    "from python_utils.auto_widgets import initialize\n",
    "widg = initialize()\n",
    "f_name = widg[0]\n",
    "number = widg[1]\n",
    "bottom = widg[2]\n",
    "top = widg[3]\n",
    "error = widg[4]\n",
    "display(f_name, number, bottom, top, error)"
   ]
  },
  {
   "cell_type": "code",
   "execution_count": 3,
   "metadata": {},
   "outputs": [],
   "source": [
    "generator = Generator(file=f_name.value, number=number.value, bottom=bottom.value, top=top.value, error_chance=error.value)\n",
    "generator.generate()"
   ]
  },
  {
   "cell_type": "markdown",
   "metadata": {},
   "source": [
    "### Структура класу\n",
    "У ході виконання був розроблений клас `Handler`, який зберігає у собі 1-не приватне значення `result` - результат виразу, 4 публічних значення `a`, `b`, `c`, `d` - операнди виразу, та 3 публічні методи `getResult`, `calculate`, `logger`.\n",
    "\n",
    "![chart](/src/Handler.svg)\n",
    "\n",
    "Метод `getResult` повертає значення, що зберігається в `result`, або викликає виняткову ситуацію *NotImplemented*, якщо воно ще не обчислено.\n",
    "\n",
    "Метод `calculate` виконує обчислення використовуючи операнди, що зберігаються у класі.\n",
    "* **Приймає** булєвий параметр, який визначає чи виводити кожну окрему дію у консоль.\n",
    "* **Записує** результат обчислення у змінну result.\n",
    "* **Повертає** масив зі значенням кожної окремої дії (крім останньої).\n",
    "* **Викликає** *Value(InvalidData)* або *ZeroDivision* виняткові ситуації за некоректної бази логарифму, або при діленні на нуль відповідно.  \n",
    "\n",
    "Метод `logger` працює із лог файлом. Він виконує обчислення виразу та записує результат та усі проміжні обчислення у цей файл. Якщо йому трапляється виняткова ситуація, - то її код буде записаний у той самий файл замість результатів."
   ]
  },
  {
   "cell_type": "markdown",
   "metadata": {},
   "source": [
    "## Виконання\n",
    "Після генерації файлу зі значеннями викликаємо виконання обчислень на кожній з 3 мов у background'і.\n",
    "\n",
    "При виконанні код буде брати групу з 4 значень з файлу, виконувати обчислення з нею та записувати результат, або код помилки у файл “назва_мови_програмування.log.csv” та переходити до наступної групи.\n",
    "\n",
    "|Код |Виняток|Опис|\n",
    "|---:|-------|----|\n",
    "|e0|ZeroDivisionError|Виникає при діленні на нуль|\n",
    "|eL|ValueError / InvalidDataError|Виникає при некоректній базі логарифма|\n",
    "|eI|NotImplementedError|Виникає за відсутності даних про результат у класі|\n",
    "|e?|Інша|Будь яке інше виключення|\n",
    "\n",
    "Тепер файл зберігається у форматі csv, бо порівняння результатів буде виконуватися мовою Python, а усі маніпуляції з даними за допомогою бібліотеки pandas, яка з коробки має функціонал для обробки csv файлів."
   ]
  },
  {
   "cell_type": "code",
   "execution_count": 4,
   "metadata": {},
   "outputs": [
    {
     "name": "stdout",
     "output_type": "stream",
     "text": [
      "Відкриття файлів\n",
      "Налаштування\n",
      "Виконується Python\n",
      "Виконується C#\n",
      "Виконується C++\n",
      "Запис до файлів\n",
      "Успішно завершено!\n"
     ]
    }
   ],
   "source": [
    "from python_utils.kernel_runner import runner\n",
    "\n",
    "runner()"
   ]
  },
  {
   "cell_type": "markdown",
   "metadata": {},
   "source": [
    "## Обробка результатів\n",
    "Останнім етапом є обробка даних отриманих з трьох різних джерел.\n",
    "Для цього був розроблений наступний алгоритм.  \n",
    "Проітеруємо отримані дані рядками. Порівнюємо їх попарно, кожне з кожним, (*С#* vs *Python*; *C++* vs *Python*; *C#* vs *C++*) та зберігаємо відповідний результат. Після цього перевіримо чи однакові всі три значення."
   ]
  },
  {
   "cell_type": "code",
   "execution_count": 5,
   "metadata": {},
   "outputs": [],
   "source": [
    "def compare(*args):\n",
    "    length = min(len(i) for i in args)\n",
    "    result = [] \n",
    "    for index in range(length):\n",
    "        checker = [i[index] for i in args]\n",
    "        try:\n",
    "            result.append(all(round(float(x), 4) == round(float(checker[0]), 4)\n",
    "                              for x in checker))\n",
    "        except ValueError:\n",
    "            result.append(all(x == checker[0] for x in checker))\n",
    "    return result"
   ]
  },
  {
   "cell_type": "code",
   "execution_count": 6,
   "metadata": {},
   "outputs": [],
   "source": [
    "import pandas as pd\n",
    "\n",
    "py_data = pd.read_csv(\"logs/python.log.csv\", header=0).round(5)\n",
    "cs_data = pd.read_csv(\"logs/c#.log.csv\", header=0).round(5)\n",
    "cpp_data = pd.read_csv(\"logs/c++.log.csv\", header=0).round(5)"
   ]
  },
  {
   "cell_type": "code",
   "execution_count": 7,
   "metadata": {},
   "outputs": [],
   "source": [
    "conclusion = pd.DataFrame({\n",
    "    \"Py_Cs\": compare(py_data.Result, cs_data.Result),\n",
    "    \"Py_Cpp\": compare(py_data.Result, cpp_data.Result),\n",
    "    \"Cs_Cpp\": compare(cs_data.Result, cpp_data.Result),\n",
    "    \"Py_Cs_Cpp\": compare(py_data.Result, cs_data.Result, cpp_data.Result)\n",
    "})"
   ]
  },
  {
   "cell_type": "markdown",
   "metadata": {},
   "source": [
    "Якщо усі три значення рівні, додаємо їх до `Success`, якщо ні - до `Failed`. Після цього проітеруємо усі значення `Failed`. Якщо з трьох пар хоча б у одній однакові значення,  результат видаляється з `Failed` та записується у `Warnings`."
   ]
  },
  {
   "cell_type": "code",
   "execution_count": 8,
   "metadata": {},
   "outputs": [],
   "source": [
    "warnings = []\n",
    "\n",
    "for index in range(len(conclusion.Py_Cs_Cpp)):\n",
    "    if not conclusion.Py_Cs_Cpp[index]:\n",
    "        if any((conclusion.Py_Cs[index],\n",
    "                conclusion.Py_Cpp[index],\n",
    "                conclusion.Cs_Cpp[index])):\n",
    "            warnings.append(index)"
   ]
  },
  {
   "cell_type": "markdown",
   "metadata": {},
   "source": [
    "Після цього виводимо результати на екран."
   ]
  },
  {
   "cell_type": "code",
   "execution_count": 13,
   "metadata": {},
   "outputs": [
    {
     "data": {
      "text/html": [
       "\n",
       "<h3>Результат</h3>\n",
       "<table>\n",
       "    <tr>\n",
       "        <th>Тип</th>\n",
       "        <th>Success</th>\n",
       "        <th>Failed</th>\n",
       "        <th>Warnings</th>\n",
       "    </tr>\n",
       "    <tr>\n",
       "        <td>Кількість</td>\n",
       "        <td>99 / 100</td>\n",
       "        <td>0 / 100</td>\n",
       "        <td>1 / 100</td>\n",
       "    </tr>\n",
       "    <tr>\n",
       "        <td>Процент</td>\n",
       "        <td>99.0%</td>\n",
       "        <td>0.0%</td>\n",
       "        <td>1.0%</td>\n",
       "    </tr>\n",
       "</table>\n"
      ],
      "text/plain": [
       "<IPython.core.display.HTML object>"
      ]
     },
     "metadata": {},
     "output_type": "display_data"
    },
    {
     "data": {
      "text/html": [
       "<h3>Warnings</h3>"
      ],
      "text/plain": [
       "<IPython.core.display.HTML object>"
      ]
     },
     "metadata": {},
     "output_type": "display_data"
    },
    {
     "data": {
      "text/html": [
       "<table>\n",
       "                        <tr>\n",
       "                            <th>Index</th>\n",
       "                            <th>Py vs C#</th>\n",
       "                            <th>Py vs C++</th>\n",
       "                            <th>C# vs C++</th>\n",
       "                        </tr>\n",
       "                        <tr>\n",
       "                            <td>86</td>\n",
       "                            <td>&#10004;</td>\n",
       "                            <td>&#10006;</td>\n",
       "                            <td>&#10006;</td>\n",
       "                        </tr>\n",
       "                    </table>"
      ],
      "text/plain": [
       "<IPython.core.display.HTML object>"
      ]
     },
     "metadata": {},
     "output_type": "display_data"
    },
    {
     "data": {
      "text/latex": [
       "$\\displaystyle Python \\\\\n",
       "        \\frac{ \\lg(4*708.1697-598.4447)*475.1045 }{708.1697+(598.4447/205.4286)-1} =\n",
       "        \\frac{ \\lg(2832.6788-598.4447)*475.1045 }{708.1697+(598.4447/205.4286)-1} = \\\\\n",
       "        \\frac{ \\lg(2234.2341)*475.1045 }{708.1697+(598.4447/205.4286)-1} = \n",
       "        \\frac{ \\textbf{3.3491*475.1045} }{708.1697+(598.4447/205.4286)-1} = \\\\\n",
       "        \\frac{ \\textbf{ 1591.1861 } }{708.1697+(598.4447/205.4286)-1} = \n",
       "        \\frac{ 1591.1861 }{708.1697+(2.9131)-1} = \\\\\n",
       "        \\frac{ 1591.1861 }{711.0829-1} = \n",
       "        \\frac{ 1591.1861 }{710.0829} = 2.2408 \\\\\n",
       "        \\\\ C\\# \\\\\n",
       "        \\frac{ \\lg(4*708.1697-598.4447)*475.1045 }{708.1697+(598.4447/205.4286)-1} =\n",
       "        \\frac{ \\lg(2832.6788-598.4447)*475.1045 }{708.1697+(598.4447/205.4286)-1} = \\\\\n",
       "        \\frac{ \\lg(2234.2341)*475.1045 }{708.1697+(598.4447/205.4286)-1} = \n",
       "        \\frac{ \\textbf{3.3491*475.1045} }{708.1697+(598.4447/205.4286)-1} = \\\\\n",
       "        \\frac{ \\textbf{ 1591.1861 } }{708.1697+(598.4447/205.4286)-1} = \n",
       "        \\frac{ 1591.1861 }{708.1697+(2.9131)-1} = \\\\\n",
       "        \\frac{ 1591.1861 }{711.0829-1} = \n",
       "        \\frac{ 1591.1861 }{710.0829} = 2.2408 \\\\\n",
       "        \\\\ C++ \\\\\n",
       "        \\frac{ \\lg(4*708.1697-598.4447)*475.1045 }{708.1697+(598.4447/205.4286)-1} =\n",
       "        \\frac{ \\lg(2832.68-598.4447)*475.1045 }{708.1697+(598.4447/205.4286)-1} = \\\\\n",
       "        \\frac{ \\lg(2234.23)*475.1045 }{708.1697+(598.4447/205.4286)-1} = \n",
       "        \\frac{ \\textbf{3.3491*475.1045} }{708.1697+(598.4447/205.4286)-1} = \\\\\n",
       "        \\frac{ \\textbf{ 1591.19 } }{708.1697+(598.4447/205.4286)-1} = \n",
       "        \\frac{ 1591.19 }{708.1697+(2.9131)-1} = \\\\\n",
       "        \\frac{ 1591.19 }{711.083-1} = \n",
       "        \\frac{ 1591.19 }{710.083} = 2.2409 \\\\\n",
       "        $"
      ],
      "text/plain": [
       "<IPython.core.display.Math object>"
      ]
     },
     "metadata": {},
     "output_type": "display_data"
    }
   ],
   "source": [
    "from IPython.display import display, HTML, Math\n",
    "from collections import Counter\n",
    "from python_utils.warnings_display import warnings_list\n",
    "\n",
    "quantity = Counter(conclusion.Py_Cs_Cpp)\n",
    "total = number.value\n",
    "results = f\"\"\"\n",
    "<h3>Результат</h3>\n",
    "<table>\n",
    "    <tr>\n",
    "        <th>Тип</th>\n",
    "        <th>Success</th>\n",
    "        <th>Failed</th>\n",
    "        <th>Warnings</th>\n",
    "    </tr>\n",
    "    <tr>\n",
    "        <td>Кількість</td>\n",
    "        <td>{quantity[True]} / {total}</td>\n",
    "        <td>{quantity[False] - len(warnings)} / {total}</td>\n",
    "        <td>{len(warnings)} / {total}</td>\n",
    "    </tr>\n",
    "    <tr>\n",
    "        <td>Процент</td>\n",
    "        <td>{(quantity[True] / total)*100}%</td>\n",
    "        <td>{((quantity[False] - len(warnings)) / total)*100}%</td>\n",
    "        <td>{(len(warnings) / total)*100}%</td>\n",
    "    </tr>\n",
    "</table>\n",
    "\"\"\"\n",
    "display(HTML(results))\n",
    "if len(warnings) > 0:\n",
    "    data = warnings_list(warnings, conclusion, py_data, cs_data, cpp_data)\n",
    "    display(HTML(\"<h3>Warnings</h3>\"))\n",
    "    for warn in data:\n",
    "        display(HTML(warn[0]))\n",
    "        display(Math(warn[1]))"
   ]
  },
  {
   "cell_type": "markdown",
   "metadata": {},
   "source": [
    "![chart](/src/Second_flow.svg)"
   ]
  },
  {
   "cell_type": "markdown",
   "metadata": {},
   "source": [
    "## Висновки\n",
    "* В ході роботи були створені та протестовані програми з однаковою функціональністю написані на різних мовах програмування. Вони виконували обчислення за схемою, та за необхідністю обробляли виняткові ситуації.\n",
    "* Після перевірки ми бачимо, що зі 100 випадково згенерованих значень ми маємо лише 1 попередження, 0 помилок.\n",
    "* При детальному дослідженні випадків 'Warnings' було помічено, що у деяких випадках C++ множить числа з плаваючою комою з меншою точністю, ніж Python або C#.\n",
    "* На жаль не вдалося встановити закономірність виникнення такої розбіжності.\n",
    "* Оскільки 'Warnings' виникали лише у одному випадку в обчисленнях, й враховуючи їх результат залишається приблизно однаковим у всіх трьох випадках можна сказати, що поставлена мета була досягнута.\n",
    "* Була написана програма, що коректно обчислює вирази за схемою ![(lg(4xb-c)xa)/(b+c/d-1)](/src/formula.svg) , та за необхідності викликає виняткові ситуації, повідомляючи, що не може завершити обчислення.\n"
   ]
  }
 ],
 "metadata": {
  "kernelspec": {
   "display_name": "Python 3",
   "language": "python",
   "name": "python3"
  },
  "language_info": {
   "codemirror_mode": {
    "name": "ipython",
    "version": 3
   },
   "file_extension": ".py",
   "mimetype": "text/x-python",
   "name": "python",
   "nbconvert_exporter": "python",
   "pygments_lexer": "ipython3",
   "version": "3.7.6"
  }
 },
 "nbformat": 4,
 "nbformat_minor": 4
}
