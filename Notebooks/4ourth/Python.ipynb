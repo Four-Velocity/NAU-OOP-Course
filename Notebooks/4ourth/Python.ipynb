{
 "cells": [
  {
   "cell_type": "markdown",
   "metadata": {},
   "source": [
    "# Дослідження механізму обробки вийняткових ситуацій"
   ]
  },
  {
   "cell_type": "code",
   "execution_count": 1,
   "metadata": {},
   "outputs": [],
   "source": [
    "from math import log10\n",
    "\n",
    "\n",
    "class Handler:\n",
    "    def __init__(self, a, b, c, d):\n",
    "        self.a = a\n",
    "        self.b = b\n",
    "        self.c = c\n",
    "        self.d = d\n",
    "        self.__result = None\n",
    "\n",
    "    def calculate(self, debug=False):\n",
    "        # [lg(4b-c)a]/[b+c/d-1]\n",
    "        if debug: \n",
    "            print(\"\\nПочаток обчислення\")\n",
    "        if debug: \n",
    "            print(f'[lg(4*{self.b}-{self.c})*{self.a}]/[{self.b}+{self.c}/{self.d}-1] = ', end='')\n",
    "        first = 4 * self.b\n",
    "        if debug: \n",
    "            print(f'[lg({first}-{self.c})*{self.a}]/[{self.b}+{self.c}/{self.d}-1] = ', end='')\n",
    "        second = first - self.c\n",
    "        if debug: \n",
    "            print(f'[lg({second})*{self.a}]/[{self.b}+{self.c}/{self.d}-1] = ', end='')\n",
    "        try:\n",
    "            third = log10(second)\n",
    "            if debug: \n",
    "                print(f'[{third})*{self.a}]/[{self.b}+{self.c}/{self.d}-1] = ', end='')\n",
    "        except ValueError:\n",
    "            raise ValueError(f\"Базою логарифму не може бути {second}\")\n",
    "        fourth = third * self.a\n",
    "        if debug: \n",
    "            print(f'[{fourth}]/[{self.b}+{self.c}/{self.d}-1] = ', end='')\n",
    "        try:\n",
    "            fifth = self.c/self.d\n",
    "            if debug: \n",
    "                print(f'[{fourth}]/[{self.b}+{fifth}-1] = ', end='')\n",
    "        except ZeroDivisionError:\n",
    "            raise ZeroDivisionError(\"d не може дорівнювати 0\")\n",
    "        sixth = self.b + fifth\n",
    "        if debug: \n",
    "            print(f'[{fourth}]/[{sixth}-1] = ', end='')\n",
    "        seventh = sixth - 1\n",
    "        if debug: \n",
    "            print(f'{fourth}/{seventh} = ', end='')\n",
    "        try:\n",
    "            self.__result = fourth / seventh\n",
    "            if debug: \n",
    "                print(f'{self.__result}')\n",
    "        except ZeroDivisionError:\n",
    "            raise ZeroDivisionError(\"b+c/d-1 не може дорівнювати 0\")\n",
    "        return first, second, third, fourth, fifth, sixth, seventh\n",
    "\n",
    "    def getResult(self):\n",
    "        if self.__result is None:\n",
    "            raise NotImplementedError(\"Значення ще не обчислене\")\n",
    "        else:\n",
    "            return self.__result\n",
    "\n",
    "    def logger(self):\n",
    "        with open('logs/python.log.csv', \"a+\") as log:\n",
    "            calc = ();\n",
    "            try:\n",
    "                calc = self.calculate()\n",
    "            except ZeroDivisionError:\n",
    "                log.write('e0')\n",
    "            except ValueError:\n",
    "                log.write('eL')\n",
    "            except:\n",
    "                log.write('e?')\n",
    "            try:\n",
    "                log.write(f'{self.getResult()}, {\", \".join(str(i) for i in calc)}\\r\\n')\n",
    "            except NotImplementedError:\n",
    "                log.write('eI\\r\\n')"
   ]
  },
  {
   "cell_type": "code",
   "execution_count": 2,
   "metadata": {},
   "outputs": [],
   "source": [
    "with open(\"start_values.tsv\", \"r\") as values:\n",
    "    values = values.readlines()\n",
    "    values = list(map(lambda x: x.split('\\t'), values))"
   ]
  },
  {
   "cell_type": "code",
   "execution_count": 3,
   "metadata": {},
   "outputs": [],
   "source": [
    "from itertools import count\n",
    "\n",
    "with open(\"logs/python.log.csv\", \"w+\") as log:\n",
    "    log.write('Result,First,Second,Third,Fourth,Fifth,Sixth,Seventh\\r\\n')\n",
    "for data, iteration in zip(values, count()):\n",
    "    handler = Handler(\n",
    "        float(data[0]),\n",
    "        float(data[1]),\n",
    "        float(data[2]),\n",
    "        float(data[3]),\n",
    "    )\n",
    "    handler.logger()"
   ]
  }
 ],
 "metadata": {
  "kernelspec": {
   "display_name": "Python 3",
   "language": "python",
   "name": "python3"
  },
  "language_info": {
   "codemirror_mode": {
    "name": "ipython",
    "version": 3
   },
   "file_extension": ".py",
   "mimetype": "text/x-python",
   "name": "python",
   "nbconvert_exporter": "python",
   "pygments_lexer": "ipython3",
   "version": "3.7.6"
  }
 },
 "nbformat": 4,
 "nbformat_minor": 4
}
