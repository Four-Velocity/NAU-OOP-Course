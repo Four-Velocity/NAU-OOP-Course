{
 "cells": [
  {
   "cell_type": "markdown",
   "metadata": {},
   "source": [
    "# Клас контейнер на *Python*\n",
    "Створимо базовий клас `String`, який буде зберігатися у класі `Text`  "
   ]
  },
  {
   "cell_type": "code",
   "execution_count": 1,
   "metadata": {},
   "outputs": [],
   "source": [
    "class String:\n",
    "    def __init__(self, value):\n",
    "        self.value = value\n",
    "\n",
    "    def len(self):\n",
    "        return len(self.value)\n",
    "\n",
    "    def all_upper(self):\n",
    "        self.value = self.value.upper()\n",
    "\n",
    "    def compare(self, string):\n",
    "        if string == self.value:\n",
    "            return 1\n",
    "        else:\n",
    "            return 0\n",
    "\n",
    "    def get(self):\n",
    "        return self.value"
   ]
  },
  {
   "cell_type": "markdown",
   "metadata": {},
   "source": [
    "Цей клас містить такі методи:  \n",
    "* `__init__` *конструктор*: передає у клас рядок;\n",
    "* `len`: повертає довжину рядка;\n",
    "* `all_upper`: переводить рядок у uppercase;\n",
    "* `compare`: приймає 1 рядок та порівнює рядок класу з ним. Повертає 1 або 0 якщо вони однакові чи ні відповідно;\n",
    "* `get`: повертає значення рядка, що зберігається у класі;"
   ]
  },
  {
   "cell_type": "markdown",
   "metadata": {},
   "source": [
    "Створимо клас-контейнер `Text`"
   ]
  },
  {
   "cell_type": "code",
   "execution_count": 2,
   "metadata": {},
   "outputs": [],
   "source": [
    "class Text:\n",
    "    def __init__(self, string=None):\n",
    "        if string is None:\n",
    "            self.text = []\n",
    "        else:\n",
    "            self.text = [string]\n",
    "\n",
    "    def show(self):\n",
    "        if len(self.text) > 0:\n",
    "            print('\\n'.join(list(map(lambda x: x.get(), self.text))))\n",
    "        else:\n",
    "            print(\"EMPTY!\")\n",
    "\n",
    "    def add(self, string: String):\n",
    "        self.text.append(string)\n",
    "\n",
    "    def delete_one(self, index=None):\n",
    "        if index is None:\n",
    "            self.text.pop(-1)\n",
    "        else:\n",
    "            self.text.pop(index)\n",
    "\n",
    "    def delete_all(self):\n",
    "        self.text = []\n",
    "\n",
    "    # That delete_len feels like bad code :|\n",
    "    def delete_len(self, length):\n",
    "        result = []\n",
    "        for i in range(len(self.text)):\n",
    "            if self.text[i].len() == length:\n",
    "                result.append(i)\n",
    "        for i in range(len(result)):\n",
    "            self.text.pop(result[i]-i)\n",
    "\n",
    "    def upper(self):\n",
    "        for string in self.text:\n",
    "            string.all_upper()\n",
    "\n",
    "    def search(self, value):\n",
    "        result = 0\n",
    "        for string in self.text:\n",
    "            result += string.compare(value)\n",
    "        print(f\"{result} '{value}' в тексті\")"
   ]
  },
  {
   "cell_type": "markdown",
   "metadata": {},
   "source": [
    "Цей клас містить наступні методи:\n",
    "* `__init__` *конструктор*;\n",
    "* `delete_all`: очищує весь клас;\n",
    "* `delete_one`: видаляє елемент за індексом чи останній елемент;\n",
    "* `delete_len`:  видаляє усі елементи заданої довжини;\n",
    "* `add`:  додає елемент в кінець тексту;\n",
    "* `show`:  виводить текст у консоль;\n",
    "* `upper`:  переводить усі елементи у верхній регістр;\n",
    "* `search`:  приймає рядок, виводить кількість співпадань у тексті;  \n",
    "Перевіримо роботу классів. Для цього створимо 4 рядка та 4 тексти з них."
   ]
  },
  {
   "cell_type": "code",
   "execution_count": 3,
   "metadata": {},
   "outputs": [],
   "source": [
    "s1 = String(\"Foo Bar\")\n",
    "s2 = String(\"Spam Eggs\")\n",
    "s3 = String(\"Pupa Lupa\")\n",
    "s4 = String(\"C++ is harder\")\n",
    "\n",
    "t1 = Text()\n",
    "t2 = Text()\n",
    "t3 = Text()\n",
    "t4 = Text()"
   ]
  },
  {
   "cell_type": "markdown",
   "metadata": {},
   "source": [
    "Циклом додамо до кожного тексту усі рядки"
   ]
  },
  {
   "cell_type": "code",
   "execution_count": 4,
   "metadata": {},
   "outputs": [],
   "source": [
    "S = [s1, s2, s3, s4]\n",
    "T = [t1, t2, t3, t4]\n",
    "for t in T:\n",
    "    for s in S:\n",
    "        t.add(s)"
   ]
  },
  {
   "cell_type": "markdown",
   "metadata": {},
   "source": [
    "Повне очищення тексту"
   ]
  },
  {
   "cell_type": "code",
   "execution_count": 5,
   "metadata": {},
   "outputs": [
    {
     "name": "stdout",
     "output_type": "stream",
     "text": [
      "EMPTY!\n"
     ]
    }
   ],
   "source": [
    "t1.delete_all()\n",
    "t1.show()"
   ]
  },
  {
   "cell_type": "markdown",
   "metadata": {},
   "source": [
    "Видалення 1 елементу за індексом та без"
   ]
  },
  {
   "cell_type": "code",
   "execution_count": 6,
   "metadata": {},
   "outputs": [
    {
     "name": "stdout",
     "output_type": "stream",
     "text": [
      "Foo Bar\n",
      "Pupa Lupa\n"
     ]
    }
   ],
   "source": [
    "t2.delete_one()\n",
    "t2.delete_one(1)\n",
    "t2.show()"
   ]
  },
  {
   "cell_type": "markdown",
   "metadata": {},
   "source": [
    "Видалення за довжиною"
   ]
  },
  {
   "cell_type": "code",
   "execution_count": 7,
   "metadata": {},
   "outputs": [
    {
     "name": "stdout",
     "output_type": "stream",
     "text": [
      "Foo Bar\n",
      "C++ is harder\n"
     ]
    }
   ],
   "source": [
    "t3.delete_len(9)\n",
    "t3.show()"
   ]
  },
  {
   "cell_type": "markdown",
   "metadata": {},
   "source": [
    "Пошук у тексті, перевод тексту у верхній регістр"
   ]
  },
  {
   "cell_type": "code",
   "execution_count": 8,
   "metadata": {},
   "outputs": [
    {
     "name": "stdout",
     "output_type": "stream",
     "text": [
      "1 'Spam Eggs' в тексті\n",
      "2 'Pupa Lupa' в тексті\n"
     ]
    }
   ],
   "source": [
    "t4.add(s3)\n",
    "t4.search(\"Spam Eggs\")\n",
    "t4.search(\"Pupa Lupa\")"
   ]
  },
  {
   "cell_type": "code",
   "execution_count": 9,
   "metadata": {},
   "outputs": [
    {
     "name": "stdout",
     "output_type": "stream",
     "text": [
      "FOO BAR\n",
      "SPAM EGGS\n",
      "PUPA LUPA\n",
      "C++ IS HARDER\n",
      "PUPA LUPA\n"
     ]
    }
   ],
   "source": [
    "t4.upper()\n",
    "t4.show()"
   ]
  }
 ],
 "metadata": {
  "kernelspec": {
   "display_name": "Python 3",
   "language": "python",
   "name": "python3"
  },
  "language_info": {
   "codemirror_mode": {
    "name": "ipython",
    "version": 3
   },
   "file_extension": ".py",
   "mimetype": "text/x-python",
   "name": "python",
   "nbconvert_exporter": "python",
   "pygments_lexer": "ipython3",
   "version": "3.7.6"
  }
 },
 "nbformat": 4,
 "nbformat_minor": 4
}
