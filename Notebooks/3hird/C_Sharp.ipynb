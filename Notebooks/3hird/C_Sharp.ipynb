{
 "cells": [
  {
   "cell_type": "markdown",
   "metadata": {},
   "source": [
    "# Клас контейнер на *C#*\n",
    "Створимо базовий клас `String`, який буде зберігатися у класі `Text`  "
   ]
  },
  {
   "cell_type": "code",
   "execution_count": 1,
   "metadata": {},
   "outputs": [],
   "source": [
    "class String\n",
    "    {\n",
    "        protected string value;\n",
    "        public String(string value)\n",
    "        {\n",
    "            this.value = value;\n",
    "        }\n",
    "        public int len()\n",
    "        {\n",
    "            return this.value.Length;\n",
    "        }\n",
    "\n",
    "        public void all_upper()\n",
    "        {\n",
    "            this.value = this.value.ToUpper();\n",
    "        }\n",
    "\n",
    "        public int compare(string str)\n",
    "        {\n",
    "            if (this.value == str) return 1;\n",
    "            else return 0;\n",
    "        }\n",
    "\n",
    "        public string get()\n",
    "        {\n",
    "            return this.value;\n",
    "        }\n",
    "    }"
   ]
  },
  {
   "cell_type": "markdown",
   "metadata": {},
   "source": [
    "Цей клас містить такі методи:  \n",
    "* `String` *конструктор*: передає у клас рядок;\n",
    "* `len`: повертає довжину рядка;\n",
    "* `all_upper`: переводить рядок у uppercase;\n",
    "* `compare`: приймає 1 рядок та порівнює рядок класу з ним. Повертає 1 або 0 якщо вони однакові чи ні відповідно;\n",
    "* `get`: повертає значення рядка, що зберігається у класі;"
   ]
  },
  {
   "cell_type": "markdown",
   "metadata": {},
   "source": [
    "Створимо клас-контейнер `Text`"
   ]
  },
  {
   "cell_type": "code",
   "execution_count": 2,
   "metadata": {},
   "outputs": [],
   "source": [
    "using System.Collections.Generic;\n",
    "\n",
    "class Text\n",
    "    {\n",
    "        private List<String> Strings;\n",
    "\n",
    "        public Text() {this.Strings = new List<String>();}\n",
    "    \n",
    "        private int length()\n",
    "        {\n",
    "            return this.Strings.Count;\n",
    "        }\n",
    "    \n",
    "        public void show()\n",
    "        {\n",
    "            if (length() == 0)\n",
    "            {\n",
    "                Console.WriteLine(\"EMPTY!\");\n",
    "            }\n",
    "            else\n",
    "            {\n",
    "                foreach (String str in Strings)\n",
    "                {\n",
    "                    Console.WriteLine(str.get());\n",
    "                } \n",
    "            }\n",
    "            \n",
    "        }\n",
    "\n",
    "        public void add(String str)\n",
    "        {\n",
    "            this.Strings.Add(str);\n",
    "        }\n",
    "\n",
    "        public void delete_one(int index = -1)\n",
    "        {\n",
    "            if (length() > 0)\n",
    "            {\n",
    "                if (index < 0)\n",
    "                {\n",
    "                    this.Strings.RemoveAt(this.Strings.Count + index);\n",
    "                }\n",
    "                else\n",
    "                {\n",
    "                    this.Strings.RemoveAt(index);\n",
    "                }\n",
    "            }\n",
    "        }\n",
    "\n",
    "        public void delete_all()\n",
    "        {\n",
    "            this.Strings.Clear();\n",
    "        }\n",
    "\n",
    "        public void delete_len(int del_len)\n",
    "        {\n",
    "            List<int> result;\n",
    "            result = new List<int>();\n",
    "            for (int i = 0; i < length(); i++)\n",
    "            {\n",
    "                if (this.Strings[i].len() == del_len) result.Add(i);\n",
    "            }\n",
    "            for (int i = 0; i < result.Count; i++) this.Strings.RemoveAt(result[i] - i);\n",
    "        }\n",
    "\n",
    "        public void upper()\n",
    "        {\n",
    "            foreach (String str in Strings)\n",
    "            {\n",
    "                str.all_upper();\n",
    "            }\n",
    "        }\n",
    "\n",
    "        public void search(string search_str)\n",
    "        {\n",
    "            int result = 0;\n",
    "            foreach (String str in Strings)\n",
    "            {\n",
    "                result += str.compare(search_str);\n",
    "            }\n",
    "\n",
    "            Console.WriteLine($\"{result} '{search_str}' в тексті\");\n",
    "        }\n",
    "    }"
   ]
  },
  {
   "cell_type": "markdown",
   "metadata": {},
   "source": [
    "Цей клас містить наступні методи:\n",
    "* `Text` *конструктор*;\n",
    "* `length`: повертає кількість елементів тексту;\n",
    "* `delete_all`: очищує весь клас;\n",
    "* `delete_one`: видаляє елемент за індексом чи останній елемент;\n",
    "* `delete_len`:  видаляє усі елементи заданої довжини;\n",
    "* `add`:  додає елемент в кінець тексту;\n",
    "* `show`:  виводить текст у консоль;\n",
    "* `upper`:  переводить усі елементи у верхній регістр;\n",
    "* `search`:  приймає рядок, виводить кількість співпадань у тексті;  \n",
    "Перевіримо роботу классів. Для цього створимо 4 рядка та 4 тексти з них."
   ]
  },
  {
   "cell_type": "code",
   "execution_count": 3,
   "metadata": {},
   "outputs": [],
   "source": [
    "var s1 = new String(\"Foo Bar\");\n",
    "var s2 = new String(\"Spam Eggs\");\n",
    "var s3 = new String(\"Pupa Lupa\");\n",
    "var s4 = new String(\"C++ is harder\");\n",
    "\n",
    "var t1 = new Text();\n",
    "var t2 = new Text();\n",
    "var t3 = new Text();\n",
    "var t4 = new Text();"
   ]
  },
  {
   "cell_type": "markdown",
   "metadata": {},
   "source": [
    "Циклом додамо до кожного тексту усі рядки"
   ]
  },
  {
   "cell_type": "code",
   "execution_count": 4,
   "metadata": {},
   "outputs": [],
   "source": [
    "List<Text> T;\n",
    "List<String> S;\n",
    "S = new List<String>();\n",
    "T = new List<Text>();\n",
    "\n",
    "T.Add(t1);\n",
    "T.Add(t2);\n",
    "T.Add(t3);\n",
    "T.Add(t4);\n",
    "\n",
    "S.Add(s1);\n",
    "S.Add(s2);\n",
    "S.Add(s3);\n",
    "S.Add(s4);\n",
    "\n",
    "foreach (Text t in T)\n",
    "{\n",
    "    foreach (String s in S)\n",
    "    {\n",
    "        t.add(s);                  \n",
    "    }   \n",
    "}"
   ]
  },
  {
   "cell_type": "markdown",
   "metadata": {},
   "source": [
    "Повне очищення тексту"
   ]
  },
  {
   "cell_type": "code",
   "execution_count": 5,
   "metadata": {},
   "outputs": [
    {
     "name": "stdout",
     "output_type": "stream",
     "text": [
      "EMPTY!\n"
     ]
    }
   ],
   "source": [
    "t1.delete_all();\n",
    "t1.show();"
   ]
  },
  {
   "cell_type": "markdown",
   "metadata": {},
   "source": [
    "Видалення 1 елементу за індексом та без"
   ]
  },
  {
   "cell_type": "code",
   "execution_count": 6,
   "metadata": {},
   "outputs": [
    {
     "name": "stdout",
     "output_type": "stream",
     "text": [
      "Foo Bar\n",
      "Pupa Lupa\n"
     ]
    }
   ],
   "source": [
    "t2.delete_one();\n",
    "t2.delete_one(1);\n",
    "t2.show();"
   ]
  },
  {
   "cell_type": "markdown",
   "metadata": {},
   "source": [
    "Видалення за довжиною"
   ]
  },
  {
   "cell_type": "code",
   "execution_count": 7,
   "metadata": {},
   "outputs": [
    {
     "name": "stdout",
     "output_type": "stream",
     "text": [
      "Foo Bar\n",
      "C++ is harder\n"
     ]
    }
   ],
   "source": [
    "t3.delete_len(9);\n",
    "t3.show();"
   ]
  },
  {
   "cell_type": "markdown",
   "metadata": {},
   "source": [
    "Пошук у тексті, перевод тексту у верхній регістр"
   ]
  },
  {
   "cell_type": "code",
   "execution_count": 8,
   "metadata": {},
   "outputs": [
    {
     "name": "stdout",
     "output_type": "stream",
     "text": [
      "1 'Spam Eggs' в тексті\n",
      "2 'Pupa Lupa' в тексті\n"
     ]
    }
   ],
   "source": [
    "t4.add(s3);\n",
    "t4.search(\"Spam Eggs\");\n",
    "t4.search(\"Pupa Lupa\");"
   ]
  },
  {
   "cell_type": "code",
   "execution_count": 9,
   "metadata": {},
   "outputs": [
    {
     "name": "stdout",
     "output_type": "stream",
     "text": [
      "FOO BAR\n",
      "SPAM EGGS\n",
      "PUPA LUPA\n",
      "C++ IS HARDER\n",
      "PUPA LUPA\n"
     ]
    }
   ],
   "source": [
    "t4.upper();\n",
    "t4.show();"
   ]
  }
 ],
 "metadata": {
  "kernelspec": {
   "display_name": ".NET (C#)",
   "language": "C#",
   "name": ".net-csharp"
  },
  "language_info": {
   "file_extension": ".cs",
   "mimetype": "text/x-csharp",
   "name": "C#",
   "pygments_lexer": "csharp",
   "version": "8.0"
  }
 },
 "nbformat": 4,
 "nbformat_minor": 4
}
