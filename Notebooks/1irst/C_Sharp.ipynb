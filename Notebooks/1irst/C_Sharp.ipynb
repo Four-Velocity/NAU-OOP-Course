{
 "cells": [
  {
   "cell_type": "markdown",
   "metadata": {},
   "source": [
    "# Приклад наслідуання у *C#*\n",
    "Створимо Базовий класс `BaseString`. Задамо у ньому конструктор, та методи, що дозволяють отримати довжину рядка та значення рядка"
   ]
  },
  {
   "cell_type": "code",
   "execution_count": 1,
   "metadata": {},
   "outputs": [],
   "source": [
    "public class BaseString \n",
    "{\n",
    "    protected string value;\n",
    "    \n",
    "    public BaseString(string v) {value = v;}\n",
    "    \n",
    "    public int len() {\n",
    "        int result = 0;\n",
    "        foreach(char c in this.value) {\n",
    "            result++;\n",
    "        }\n",
    "        return result;\n",
    "    }\n",
    "    \n",
    "    public string get() {\n",
    "        return this.value;\n",
    "    }\n",
    "}"
   ]
  },
  {
   "cell_type": "markdown",
   "metadata": {},
   "source": [
    "Наслідуємо від нього клас `SymbolString`. Додамо до нього метод, що заміює один символ рядка на інший, та повертає змінений рядок"
   ]
  },
  {
   "cell_type": "code",
   "execution_count": 2,
   "metadata": {},
   "outputs": [],
   "source": [
    "public class SymbolString : BaseString\n",
    "{\n",
    "    public SymbolString(string v) :base(v) {}\n",
    "    public string replace(char a, char b) {\n",
    "        string result = this.value;\n",
    "        for (int i = 0; i < this.len(); i++) {\n",
    "            if (result[i] == a) {\n",
    "                string a1 = result.Substring(0, i);\n",
    "                string a2 = b.ToString();\n",
    "                string a3 = result.Substring(i+1);\n",
    "                result = a1 + a2 + a3;\n",
    "            }\n",
    "        }\n",
    "        return result;\n",
    "    }\n",
    "}"
   ]
  },
  {
   "cell_type": "markdown",
   "metadata": {},
   "source": [
    "Спробуємо створити обидва класи та опрацювати їх методи"
   ]
  },
  {
   "cell_type": "code",
   "execution_count": 3,
   "metadata": {},
   "outputs": [],
   "source": [
    "var baseS = new BaseString(\"Foo Bar\");\n",
    "var symbolS = new SymbolString(\"Spam Eggs\");"
   ]
  },
  {
   "cell_type": "markdown",
   "metadata": {},
   "source": [
    "Виведемо довжину `Foo Bar`"
   ]
  },
  {
   "cell_type": "code",
   "execution_count": 4,
   "metadata": {},
   "outputs": [
    {
     "data": {
      "text/plain": [
       "7"
      ]
     },
     "execution_count": 4,
     "metadata": {},
     "output_type": "execute_result"
    }
   ],
   "source": [
    "baseS.len()"
   ]
  },
  {
   "cell_type": "markdown",
   "metadata": {},
   "source": [
    "Виведемо довжину `Spam Eggs`"
   ]
  },
  {
   "cell_type": "code",
   "execution_count": 5,
   "metadata": {},
   "outputs": [
    {
     "data": {
      "text/plain": [
       "9"
      ]
     },
     "execution_count": 5,
     "metadata": {},
     "output_type": "execute_result"
    }
   ],
   "source": [
    "symbolS.len()"
   ]
  },
  {
   "cell_type": "markdown",
   "metadata": {},
   "source": [
    "Отримаємо новий рядок замінивши `g` на `b` та виведемо його"
   ]
  },
  {
   "cell_type": "code",
   "execution_count": 6,
   "metadata": {},
   "outputs": [
    {
     "data": {
      "text/plain": [
       "Spam Ebbs"
      ]
     },
     "execution_count": 6,
     "metadata": {},
     "output_type": "execute_result"
    }
   ],
   "source": [
    "string newS = symbolS.replace('g','b');\n",
    "newS"
   ]
  },
  {
   "cell_type": "markdown",
   "metadata": {},
   "source": [
    "При цьому значення рядка у класі залишається тим самим"
   ]
  },
  {
   "cell_type": "code",
   "execution_count": 7,
   "metadata": {},
   "outputs": [
    {
     "data": {
      "text/plain": [
       "Spam Eggs"
      ]
     },
     "execution_count": 7,
     "metadata": {},
     "output_type": "execute_result"
    }
   ],
   "source": [
    "symbolS.get()"
   ]
  },
  {
   "cell_type": "markdown",
   "metadata": {},
   "source": [
    "Саме значення `value` у класі фактично є *protected*, тому змінити беспосередньо його неможливо.  "
   ]
  }
 ],
 "metadata": {
  "kernelspec": {
   "display_name": ".NET (C#)",
   "language": "C#",
   "name": ".net-csharp"
  },
  "language_info": {
   "file_extension": ".cs",
   "mimetype": "text/x-csharp",
   "name": "C#",
   "pygments_lexer": "csharp",
   "version": "8.0"
  }
 },
 "nbformat": 4,
 "nbformat_minor": 4
}
