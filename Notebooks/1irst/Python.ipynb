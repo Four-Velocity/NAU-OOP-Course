{
 "cells": [
  {
   "cell_type": "markdown",
   "metadata": {},
   "source": [
    "# Приклад наслідуання у *Python*\n",
    "Створимо Базовий класс `BaseString`. Задамо у ньому конструктор, та та методи, що дозволяють отримати довжину рядка та значення рядка"
   ]
  },
  {
   "cell_type": "code",
   "execution_count": 1,
   "metadata": {},
   "outputs": [],
   "source": [
    "class BaseString:\n",
    "    \n",
    "    def __init__(self, value):\n",
    "        self.__value = str(value)\n",
    "\n",
    "    def len(self):\n",
    "        return sum(1 for _ in self.__value)\n",
    "    \n",
    "    def get(self):\n",
    "        return self.__value"
   ]
  },
  {
   "cell_type": "markdown",
   "metadata": {},
   "source": [
    "Наслідуємо від нього клас `SymbolString`. Додамо до нього метод, що заміює один символ рядка на інший, та повертає змінений рядок"
   ]
  },
  {
   "cell_type": "code",
   "execution_count": 2,
   "metadata": {},
   "outputs": [],
   "source": [
    "class SymbolString(BaseString):\n",
    "    \n",
    "    def replace(self, a, b):\n",
    "        result = self._BaseString__value\n",
    "        for i in range(self.len()):\n",
    "            if result[i] == a:\n",
    "                a1 = result[:i]\n",
    "                a2 = b\n",
    "                a3 = result[i + 1:]\n",
    "                result = a1 + a2 + a3\n",
    "        return result"
   ]
  },
  {
   "cell_type": "markdown",
   "metadata": {},
   "source": [
    "Спробуємо створити обидва класи та опрацювати їх методи"
   ]
  },
  {
   "cell_type": "code",
   "execution_count": 3,
   "metadata": {},
   "outputs": [],
   "source": [
    "baseS = BaseString('Foo Bar')\n",
    "symbolS = SymbolString('Spam Eggs')"
   ]
  },
  {
   "cell_type": "markdown",
   "metadata": {},
   "source": [
    "Виведемо довжину `Foo Bar`"
   ]
  },
  {
   "cell_type": "code",
   "execution_count": 4,
   "metadata": {},
   "outputs": [
    {
     "data": {
      "text/plain": [
       "7"
      ]
     },
     "execution_count": 4,
     "metadata": {},
     "output_type": "execute_result"
    }
   ],
   "source": [
    "baseS.len()"
   ]
  },
  {
   "cell_type": "markdown",
   "metadata": {},
   "source": [
    "Виведемо довжину `Spam Eggs`"
   ]
  },
  {
   "cell_type": "code",
   "execution_count": 5,
   "metadata": {},
   "outputs": [
    {
     "data": {
      "text/plain": [
       "9"
      ]
     },
     "execution_count": 5,
     "metadata": {},
     "output_type": "execute_result"
    }
   ],
   "source": [
    "symbolS.len()"
   ]
  },
  {
   "cell_type": "markdown",
   "metadata": {},
   "source": [
    "Отримаємо новий рядок замінивши `g` на `b` та виведемо його"
   ]
  },
  {
   "cell_type": "code",
   "execution_count": 6,
   "metadata": {},
   "outputs": [
    {
     "data": {
      "text/plain": [
       "'Spam Ebbs'"
      ]
     },
     "execution_count": 6,
     "metadata": {},
     "output_type": "execute_result"
    }
   ],
   "source": [
    "newS = symbolS.replace('g','b')\n",
    "newS"
   ]
  },
  {
   "cell_type": "markdown",
   "metadata": {},
   "source": [
    "При цьому значення рядка у класі залишається тим самим"
   ]
  },
  {
   "cell_type": "code",
   "execution_count": 7,
   "metadata": {},
   "outputs": [
    {
     "data": {
      "text/plain": [
       "'Spam Eggs'"
      ]
     },
     "execution_count": 7,
     "metadata": {},
     "output_type": "execute_result"
    }
   ],
   "source": [
    "symbolS.get()"
   ]
  },
  {
   "cell_type": "markdown",
   "metadata": {},
   "source": [
    "Саме значення `value` у класі фактично є *private*, але емулює поведінку *protected*, тому змінити беспосередньо його неможливо. На таке виконання спонукають особливості мови.  "
   ]
  }
 ],
 "metadata": {
  "kernelspec": {
   "display_name": "Python 3",
   "language": "python",
   "name": "python3"
  },
  "language_info": {
   "codemirror_mode": {
    "name": "ipython",
    "version": 3
   },
   "file_extension": ".py",
   "mimetype": "text/x-python",
   "name": "python",
   "nbconvert_exporter": "python",
   "pygments_lexer": "ipython3",
   "version": "3.7.6"
  }
 },
 "nbformat": 4,
 "nbformat_minor": 4
}
