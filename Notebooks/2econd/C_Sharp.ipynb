{
 "cells": [
  {
   "cell_type": "markdown",
   "metadata": {},
   "source": [
    "# Приклад поліморфізму у *C#*\n",
    "Створимо базовий клас `Figure`, який має два віртуальних метода: `area()` та `perimeter()`"
   ]
  },
  {
   "cell_type": "code",
   "execution_count": 1,
   "metadata": {},
   "outputs": [],
   "source": [
    "public class Figure\n",
    "    {\n",
    "        public virtual double area() {return 0.0;}\n",
    "\n",
    "        public virtual double perimeter() {return 0.0;}\n",
    "    }"
   ]
  },
  {
   "cell_type": "markdown",
   "metadata": {},
   "source": [
    "Наслідуємо від нього клас `Rectangle`, що зберігає координати вершин прямокутника, та його довжину та ширину, та перегрузимо методи базового класу.  \n",
    "Тепер метод `area()` повертає площу прямокутника за формулою: $S = a * b$  \n",
    "Метод `perimeter()` відтепер повертає периметер за формулою: $P = 2(a+b)$"
   ]
  },
  {
   "cell_type": "code",
   "execution_count": 2,
   "metadata": {},
   "outputs": [],
   "source": [
    " public class Reactangle : Figure\n",
    "    {\n",
    "        public double ax, ay, bx, by, cx, cy, dx, dy, horizontal, vertical;\n",
    "        public Reactangle(double ax, double ay, double cx, double cy)\n",
    "        {\n",
    "            this.ax = ax;\n",
    "            this.ay = ay; \n",
    "            bx = ax;\n",
    "            by = cy;\n",
    "            this.cx = cx;\n",
    "            this.cy = cy;\n",
    "            dx = cx;\n",
    "            dy = ay;\n",
    "            horizontal = cx - ax;\n",
    "            vertical = cy - ay;\n",
    "        }\n",
    "\n",
    "        public override double area()\n",
    "        {\n",
    "            return this.horizontal * this.vertical;\n",
    "        }\n",
    "\n",
    "        public override double perimeter()\n",
    "        {\n",
    "            return 2.0 * (this.horizontal + this.vertical);\n",
    "        }\n",
    "    }"
   ]
  },
  {
   "cell_type": "markdown",
   "metadata": {},
   "source": [
    "Також наслідуємо від нього клас `Circle`, що зберігає радіус кола, та перегрузимо методи базового класу.  \n",
    "Тепер метод `area()` повертає площу кола за формулою: $S = \\pi r^2$  \n",
    "Метод `perimeter()` відтепер повертає довжину окружності за формулою: $P = 2\\pi r$  \n",
    "Таким чином і проявляється поліморфізм. Одні й ті самі методи виконують різні дії, що залежать від класу, для його ці методи виконуються."
   ]
  },
  {
   "cell_type": "code",
   "execution_count": 3,
   "metadata": {},
   "outputs": [],
   "source": [
    "public class Circle : Figure\n",
    "    {\n",
    "        public double radius;\n",
    "\n",
    "        public Circle(double radius)\n",
    "        {\n",
    "            this.radius = radius;\n",
    "        }\n",
    "\n",
    "        public override double area()\n",
    "        {\n",
    "            return Math.PI * Math.Pow(this.radius, 2.0);\n",
    "        }\n",
    "\n",
    "        public override double perimeter()\n",
    "        {\n",
    "            return 2.0 * Math.PI * this.radius;\n",
    "        }\n",
    "    }"
   ]
  },
  {
   "cell_type": "markdown",
   "metadata": {},
   "source": [
    "Маємо прямокутник наступного формату:  \n",
    "![Bottom Left = A; Top Right = C](/src/Rectangle.svg)  \n",
    "Ініціюємо його, обчислемо площу та периметр, виведемо ці данні."
   ]
  },
  {
   "cell_type": "code",
   "execution_count": 4,
   "metadata": {},
   "outputs": [],
   "source": [
    "double ax = 0.0, ay = 0.0, cx = 40.0, cy = 15.0;\n",
    "var rectangle = new Reactangle(ax, ay, cx, cy);"
   ]
  },
  {
   "cell_type": "markdown",
   "metadata": {},
   "source": [
    "**Площа:**"
   ]
  },
  {
   "cell_type": "code",
   "execution_count": 5,
   "metadata": {},
   "outputs": [
    {
     "data": {
      "text/plain": [
       "600"
      ]
     },
     "execution_count": 5,
     "metadata": {},
     "output_type": "execute_result"
    }
   ],
   "source": [
    "Math.Round(rectangle.area(), 4)"
   ]
  },
  {
   "cell_type": "markdown",
   "metadata": {},
   "source": [
    "**Периметр:**"
   ]
  },
  {
   "cell_type": "code",
   "execution_count": 6,
   "metadata": {},
   "outputs": [
    {
     "data": {
      "text/plain": [
       "110"
      ]
     },
     "execution_count": 6,
     "metadata": {},
     "output_type": "execute_result"
    }
   ],
   "source": [
    "Math.Round(rectangle.perimeter(), 4)"
   ]
  },
  {
   "cell_type": "markdown",
   "metadata": {},
   "source": [
    "Також ініціюємо коло з радіусом 18.  \n",
    "Викорастаємо методи обчислення площі та периметру. Через поліморфізм обчислення пройдуть іншим чином від прямокутника."
   ]
  },
  {
   "cell_type": "code",
   "execution_count": 7,
   "metadata": {},
   "outputs": [],
   "source": [
    "double radius = 18.00;\n",
    "var circle = new Circle(radius);"
   ]
  },
  {
   "cell_type": "markdown",
   "metadata": {},
   "source": [
    "**Площа:**"
   ]
  },
  {
   "cell_type": "code",
   "execution_count": 8,
   "metadata": {},
   "outputs": [
    {
     "data": {
      "text/plain": [
       "1017.876"
      ]
     },
     "execution_count": 8,
     "metadata": {},
     "output_type": "execute_result"
    }
   ],
   "source": [
    "Math.Round(circle.area(), 4)"
   ]
  },
  {
   "cell_type": "markdown",
   "metadata": {},
   "source": [
    "**Периметр:**"
   ]
  },
  {
   "cell_type": "code",
   "execution_count": 9,
   "metadata": {},
   "outputs": [
    {
     "data": {
      "text/plain": [
       "113.0973"
      ]
     },
     "execution_count": 9,
     "metadata": {},
     "output_type": "execute_result"
    }
   ],
   "source": [
    "Math.Round(circle.perimeter(), 4)"
   ]
  }
 ],
 "metadata": {
  "kernelspec": {
   "display_name": ".NET (C#)",
   "language": "C#",
   "name": ".net-csharp"
  },
  "language_info": {
   "file_extension": ".cs",
   "mimetype": "text/x-csharp",
   "name": "C#",
   "pygments_lexer": "csharp",
   "version": "8.0"
  }
 },
 "nbformat": 4,
 "nbformat_minor": 4
}
