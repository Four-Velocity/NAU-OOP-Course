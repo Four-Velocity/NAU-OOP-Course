{
 "cells": [
  {
   "cell_type": "markdown",
   "metadata": {},
   "source": [
    "# Приклад поліморфізму у *С++*\n",
    "Створимо базовий клас `Figure`, який має два віртуальних метода: `area()` та `perimeter()`"
   ]
  },
  {
   "cell_type": "code",
   "execution_count": 1,
   "metadata": {},
   "outputs": [],
   "source": [
    "class Figure {\n",
    "public:\n",
    "    virtual double area() {return 0.0;}\n",
    "    virtual double perimeter() {return 0.0;}\n",
    "};"
   ]
  },
  {
   "cell_type": "markdown",
   "metadata": {},
   "source": [
    "Наслідуємо від нього клас `Rectangle`, що зберігає координати вершин прямокутника, та його довжину та ширину, та перегрузимо методи базового класу.  \n",
    "Тепер метод `area()` повертає площу прямокутника за формулою: $S = a * b$  \n",
    "Метод `perimeter()` відтепер повертає периметер за формулою: $P = 2(a+b)$"
   ]
  },
  {
   "cell_type": "code",
   "execution_count": 2,
   "metadata": {},
   "outputs": [],
   "source": [
    "class Rectangle : public Figure {\n",
    "public:\n",
    "    double ax, ay, bx, by, cx, cy, dx, dy, horizontal, vertical;\n",
    "    Rectangle (double ax, double ay, double cx, double cy) {\n",
    "        this->ax = ax;\n",
    "        this->ay = ay;\n",
    "        this->bx = ax;\n",
    "        this->by = cy;\n",
    "        this->cx = cx;\n",
    "        this->cy = cy;\n",
    "        this->dx = cx;\n",
    "        this->dy = ay;\n",
    "        this->horizontal = cx - ax;\n",
    "        this->vertical = cy - ay;\n",
    "    }\n",
    "    double area() {\n",
    "        return this->horizontal * this->vertical;\n",
    "    }\n",
    "    double perimeter() {\n",
    "        return 2.0 * (this->vertical + this->horizontal);\n",
    "    }\n",
    "};"
   ]
  },
  {
   "cell_type": "markdown",
   "metadata": {},
   "source": [
    "Також наслідуємо від нього клас `Circle`, що зберігає радіус кола, та перегрузимо методи базового класу.  \n",
    "Тепер метод `area()` повертає площу кола за формулою: $S = \\pi r^2$  \n",
    "Метод `perimeter()` відтепер повертає довжину окружності за формулою: $P = 2\\pi r$  \n",
    "Таким чином і проявляється поліморфізм. Одні й ті самі методи виконують різні дії, що залежать від класу, для його ці методи виконуються."
   ]
  },
  {
   "cell_type": "code",
   "execution_count": 3,
   "metadata": {},
   "outputs": [],
   "source": [
    "#include <math.h>\n",
    "\n",
    "class Circle : public Figure {\n",
    "public:\n",
    "    double radius;\n",
    "    Circle (double radius) { this->radius = radius;}\n",
    "    double area() {\n",
    "        return M_PI * pow(this->radius, 2.0);\n",
    "    }\n",
    "    double perimeter() {\n",
    "        return 2.00 * M_PI * this->radius;\n",
    "    }\n",
    "};"
   ]
  },
  {
   "cell_type": "markdown",
   "metadata": {},
   "source": [
    "Маємо прямокутник наступного формату:  \n",
    "![Bottom Left = A; Top Right = C](/src/Rectangle.svg)  \n",
    "Ініціюємо його, обчислемо площу та периметр, виведемо ці данні."
   ]
  },
  {
   "cell_type": "code",
   "execution_count": 4,
   "metadata": {},
   "outputs": [],
   "source": [
    "double ax = 0.0, ay = 0.0, cx = 40.0, cy = 15.0;\n",
    "Rectangle rectangle(ax, ay, cx, cy);"
   ]
  },
  {
   "cell_type": "markdown",
   "metadata": {},
   "source": [
    "**Площа:**"
   ]
  },
  {
   "cell_type": "code",
   "execution_count": 5,
   "metadata": {},
   "outputs": [
    {
     "data": {
      "text/plain": [
       "600"
      ]
     },
     "execution_count": 5,
     "metadata": {},
     "output_type": "execute_result"
    }
   ],
   "source": [
    "rectangle.area()"
   ]
  },
  {
   "cell_type": "markdown",
   "metadata": {},
   "source": [
    "**Периметр:**"
   ]
  },
  {
   "cell_type": "code",
   "execution_count": 6,
   "metadata": {},
   "outputs": [
    {
     "data": {
      "text/plain": [
       "110"
      ]
     },
     "execution_count": 6,
     "metadata": {},
     "output_type": "execute_result"
    }
   ],
   "source": [
    "rectangle.perimeter()"
   ]
  },
  {
   "cell_type": "markdown",
   "metadata": {},
   "source": [
    "Також ініціюємо коло з радіусом 18.  \n",
    "Викорастаємо методи обчислення площі та периметру. Через поліморфізм обчислення пройдуть іншим чином від прямокутника."
   ]
  },
  {
   "cell_type": "code",
   "execution_count": 7,
   "metadata": {},
   "outputs": [],
   "source": [
    "double radius = 18.00;\n",
    "Circle circle(radius);"
   ]
  },
  {
   "cell_type": "markdown",
   "metadata": {},
   "source": [
    "**Площа:**"
   ]
  },
  {
   "cell_type": "code",
   "execution_count": 8,
   "metadata": {},
   "outputs": [
    {
     "data": {
      "text/plain": [
       "1017.88"
      ]
     },
     "execution_count": 8,
     "metadata": {},
     "output_type": "execute_result"
    }
   ],
   "source": [
    "circle.area()"
   ]
  },
  {
   "cell_type": "markdown",
   "metadata": {},
   "source": [
    "**Периметр:**"
   ]
  },
  {
   "cell_type": "code",
   "execution_count": 9,
   "metadata": {},
   "outputs": [
    {
     "data": {
      "text/plain": [
       "113.097"
      ]
     },
     "execution_count": 9,
     "metadata": {},
     "output_type": "execute_result"
    }
   ],
   "source": [
    "circle.perimeter()"
   ]
  }
 ],
 "metadata": {
  "kernelspec": {
   "display_name": "C++17",
   "language": "C++17",
   "name": "xcpp17"
  },
  "language_info": {
   "codemirror_mode": "text/x-c++src",
   "file_extension": ".cpp",
   "mimetype": "text/x-c++src",
   "name": "c++",
   "version": "-std=c++17"
  }
 },
 "nbformat": 4,
 "nbformat_minor": 4
}
