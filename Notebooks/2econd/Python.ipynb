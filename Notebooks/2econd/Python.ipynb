{
 "cells": [
  {
   "cell_type": "markdown",
   "metadata": {},
   "source": [
    "# Приклад поліморфізму у *Python*\n",
    "Створимо базовий клас `Figure`, який має два віртуальних метода: `area()` та `perimeter()`"
   ]
  },
  {
   "cell_type": "code",
   "execution_count": 1,
   "metadata": {},
   "outputs": [],
   "source": [
    "class Figure:\n",
    "    def area(self):\n",
    "        pass\n",
    "\n",
    "    def perimeter(self):\n",
    "        pass"
   ]
  },
  {
   "cell_type": "markdown",
   "metadata": {},
   "source": [
    "Наслідуємо від нього клас `Rectangle`, що зберігає координати вершин прямокутника, та його довжину та ширину, та перегрузимо методи базового класу.  \n",
    "Тепер метод `area()` повертає площу прямокутника за формулою: $S = a * b$  \n",
    "Метод `perimeter()` відтепер повертає периметер за формулою: $P = 2(a+b)$"
   ]
  },
  {
   "cell_type": "code",
   "execution_count": 2,
   "metadata": {},
   "outputs": [],
   "source": [
    "class Rectangle(Figure):\n",
    "    def __init__(self, ax, ay, cx, cy):\n",
    "        self.ax = ax\n",
    "        self.ay = ay\n",
    "        self.bx = ax\n",
    "        self.by = cy\n",
    "        self.cx = cx\n",
    "        self.cy = cy\n",
    "        self.dx = cx\n",
    "        self.dy = ay\n",
    "        self.horizontal = cx - ax\n",
    "        self.vertical = cy - ay\n",
    "\n",
    "    def area(self):\n",
    "        return self.horizontal * self.vertical\n",
    "\n",
    "    def perimeter(self):\n",
    "        return 2*(self.horizontal+self.vertical)"
   ]
  },
  {
   "cell_type": "markdown",
   "metadata": {},
   "source": [
    "Також наслідуємо від нього клас `Circle`, що зберігає радіус кола, та перегрузимо методи базового класу.  \n",
    "Тепер метод `area()` повертає площу кола за формулою: $S = \\pi r^2$  \n",
    "Метод `perimeter()` відтепер повертає довжину окружності за формулою: $P = 2\\pi r$  \n",
    "Таким чином і проявляється поліморфізм. Одні й ті самі методи виконують різні дії, що залежать від класу, для його ці методи виконуються."
   ]
  },
  {
   "cell_type": "code",
   "execution_count": 3,
   "metadata": {},
   "outputs": [],
   "source": [
    "from math import pi\n",
    "\n",
    "class Circle(Figure):\n",
    "    def __init__(self, radius):\n",
    "        self.radius = radius\n",
    "\n",
    "    def area(self):\n",
    "        return pi * (self.radius ** 2)\n",
    "\n",
    "    def perimeter(self):\n",
    "        return 2 * pi * self.radius"
   ]
  },
  {
   "cell_type": "markdown",
   "metadata": {},
   "source": [
    "Маємо прямокутник наступного формату:  \n",
    "![Bottom Left = A; Top Right = C](/src/Rectangle.svg)  \n",
    "Ініціюємо його, обчислемо площу та периметр, виведемо ці данні."
   ]
  },
  {
   "cell_type": "code",
   "execution_count": 4,
   "metadata": {},
   "outputs": [],
   "source": [
    "ax = 0.0\n",
    "ay = 0.0\n",
    "cx = 40.0\n",
    "cy = 15.0\n",
    "rectangle = Rectangle(ax, ay, cx, cy)"
   ]
  },
  {
   "cell_type": "markdown",
   "metadata": {},
   "source": [
    "**Площа:**"
   ]
  },
  {
   "cell_type": "code",
   "execution_count": 5,
   "metadata": {},
   "outputs": [
    {
     "data": {
      "text/plain": [
       "600.0"
      ]
     },
     "execution_count": 5,
     "metadata": {},
     "output_type": "execute_result"
    }
   ],
   "source": [
    "round(rectangle.area(), 4)"
   ]
  },
  {
   "cell_type": "markdown",
   "metadata": {},
   "source": [
    "**Периметр:**"
   ]
  },
  {
   "cell_type": "code",
   "execution_count": 6,
   "metadata": {},
   "outputs": [
    {
     "data": {
      "text/plain": [
       "110.0"
      ]
     },
     "execution_count": 6,
     "metadata": {},
     "output_type": "execute_result"
    }
   ],
   "source": [
    "round(rectangle.perimeter(), 4)"
   ]
  },
  {
   "cell_type": "markdown",
   "metadata": {},
   "source": [
    "Також ініціюємо коло з радіусом 18.  \n",
    "Викорастаємо методи обчислення площі та периметру. Через поліморфізм обчислення пройдуть іншим чином від прямокутника."
   ]
  },
  {
   "cell_type": "code",
   "execution_count": 7,
   "metadata": {},
   "outputs": [],
   "source": [
    "radius = 18.00\n",
    "circle = Circle(radius)"
   ]
  },
  {
   "cell_type": "markdown",
   "metadata": {},
   "source": [
    "**Площа:**"
   ]
  },
  {
   "cell_type": "code",
   "execution_count": 8,
   "metadata": {},
   "outputs": [
    {
     "data": {
      "text/plain": [
       "1017.876"
      ]
     },
     "execution_count": 8,
     "metadata": {},
     "output_type": "execute_result"
    }
   ],
   "source": [
    "round(circle.area(), 4)"
   ]
  },
  {
   "cell_type": "markdown",
   "metadata": {},
   "source": [
    "**Периметр:**"
   ]
  },
  {
   "cell_type": "code",
   "execution_count": 9,
   "metadata": {},
   "outputs": [
    {
     "data": {
      "text/plain": [
       "113.0973"
      ]
     },
     "execution_count": 9,
     "metadata": {},
     "output_type": "execute_result"
    }
   ],
   "source": [
    "round(circle.perimeter(), 4)"
   ]
  }
 ],
 "metadata": {
  "kernelspec": {
   "display_name": "Python 3",
   "language": "python",
   "name": "python3"
  },
  "language_info": {
   "codemirror_mode": {
    "name": "ipython",
    "version": 3
   },
   "file_extension": ".py",
   "mimetype": "text/x-python",
   "name": "python",
   "nbconvert_exporter": "python",
   "pygments_lexer": "ipython3",
   "version": "3.7.6"
  }
 },
 "nbformat": 4,
 "nbformat_minor": 4
}
